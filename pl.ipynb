{
 "cells": [
  {
   "cell_type": "code",
   "execution_count": null,
   "metadata": {},
   "outputs": [],
   "source": [
    "import pandas as pd\n",
    "import seaborn as sns\n",
    "import matplotlib.pyplot as plt\n",
    "import numpy as np\n",
    "import dateutil.parser as dparser\n",
    "from sklearn.ensemble import RandomForestClassifier\n",
    "from sklearn.svm import SVC\n",
    "from sklearn import svm\n",
    "from sklearn.neural_network import MLPClassifier\n",
    "from sklearn.metrics import confusion_matrix, classification_report\n",
    "from sklearn.preprocessing import StandardScaler, LabelEncoder\n",
    "from sklearn.model_selection import train_test_split\n",
    "%matplotlib inline"
   ]
  },
  {
   "cell_type": "code",
   "execution_count": null,
   "metadata": {},
   "outputs": [],
   "source": [
    "season = pd.read_csv('season-0910_csv.csv', sep=',')"
   ]
  },
  {
   "cell_type": "code",
   "execution_count": null,
   "metadata": {},
   "outputs": [],
   "source": [
    "# season['Referee'].head(10)\n",
    "season['Referee'] = season['Referee'].astype(str)\n",
    "season.head(20)"
   ]
  },
  {
   "cell_type": "code",
   "execution_count": null,
   "metadata": {},
   "outputs": [],
   "source": [
    "season.info()"
   ]
  },
  {
   "cell_type": "code",
   "execution_count": null,
   "metadata": {},
   "outputs": [],
   "source": [
    "# season['HomeTeam']\n",
    "# season['Date'] = pd.to_numeric(season['Date'])\n",
    "season['FTR'].value_counts()\n",
    "# sns.countplot(season['FTR'])"
   ]
  },
  {
   "cell_type": "code",
   "execution_count": null,
   "metadata": {},
   "outputs": [],
   "source": [
    "X = season[['Date', 'HomeTeam', 'AwayTeam', 'Referee', 'HTHG', 'HTAG', 'B365H', 'B365D', 'B365A']]\n",
    "y = season['FTR']\n",
    "Referee = X.Referee.unique()\n",
    "Referee = np.array(Referee)\n",
    "HomeTeam = X.HomeTeam.unique()\n",
    "HomeTeam = np.array(HomeTeam)\n",
    "AwayTeam = X.AwayTeam.unique()\n",
    "AwayTeam = np.array(AwayTeam)\n",
    "\n",
    "for ind in X.index:\n",
    "#     print(np.where(Referee==season['Referee'][ind]))\n",
    "    X['Referee'][ind] = np.where(Referee==X['Referee'][ind])[0][0]\n",
    "    X['HomeTeam'][ind] = np.where(HomeTeam==X['HomeTeam'][ind])[0][0]\n",
    "    X['AwayTeam'][ind] = np.where(AwayTeam==X['AwayTeam'][ind])[0][0]\n",
    "    X['Date'][ind] = dparser.parse(season['Date'][ind],fuzzy=True,dayfirst=True).month"
   ]
  },
  {
   "cell_type": "code",
   "execution_count": null,
   "metadata": {},
   "outputs": [],
   "source": [
    "X_train, X_test, y_train, y_test = train_test_split(X, y, test_size=0.2, random_state=42)\n",
    "X"
   ]
  },
  {
   "cell_type": "code",
   "execution_count": null,
   "metadata": {},
   "outputs": [],
   "source": [
    "rfc = RandomForestClassifier(n_estimators=200)\n",
    "rfc.fit(X_train, y_train)\n",
    "predict_rfc = rfc.predict(X_test)\n",
    "# predict_rfc"
   ]
  },
  {
   "cell_type": "code",
   "execution_count": null,
   "metadata": {},
   "outputs": [],
   "source": [
    "print(classification_report(y_test, predict_rfc))\n",
    "print(confusion_matrix(y_test, predict_rfc))"
   ]
  },
  {
   "cell_type": "code",
   "execution_count": null,
   "metadata": {},
   "outputs": [],
   "source": [
    "clf = svm.SVC()\n",
    "clf.fit(X_train, y_train)\n",
    "predict_clf = clf.predict(X_test)"
   ]
  },
  {
   "cell_type": "code",
   "execution_count": null,
   "metadata": {},
   "outputs": [],
   "source": [
    "print(classification_report(y_test, predict_clf))\n",
    "print(confusion_matrix(y_test, predict_clf))"
   ]
  },
  {
   "cell_type": "code",
   "execution_count": null,
   "metadata": {},
   "outputs": [],
   "source": [
    "mlpc = MLPClassifier(hidden_layer_sizes=(5,5,5,10), max_iter=500)\n",
    "mlpc.fit(X_train, y_train)\n",
    "predict_mlpc = mlpc.predict(X_test)"
   ]
  },
  {
   "cell_type": "code",
   "execution_count": null,
   "metadata": {},
   "outputs": [],
   "source": [
    "print(classification_report(y_test, predict_mlpc))\n",
    "print(confusion_matrix(y_test, predict_mlpc))"
   ]
  },
  {
   "cell_type": "code",
   "execution_count": null,
   "metadata": {},
   "outputs": [],
   "source": []
  }
 ],
 "metadata": {
  "kernelspec": {
   "display_name": "Python 3",
   "language": "python",
   "name": "python3"
  },
  "language_info": {
   "codemirror_mode": {
    "name": "ipython",
    "version": 3
   },
   "file_extension": ".py",
   "mimetype": "text/x-python",
   "name": "python",
   "nbconvert_exporter": "python",
   "pygments_lexer": "ipython3",
   "version": "3.7.7"
  }
 },
 "nbformat": 4,
 "nbformat_minor": 4
}
